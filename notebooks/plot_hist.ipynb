{
 "cells": [
  {
   "cell_type": "code",
   "execution_count": 1,
   "metadata": {},
   "outputs": [],
   "source": [
    "import numpy as np\n",
    "import matplotlib.pyplot as plt\n",
    "from glob import glob\n",
    "import h5py"
   ]
  },
  {
   "cell_type": "code",
   "execution_count": null,
   "metadata": {},
   "outputs": [],
   "source": [
    "import os\n",
    "os.chdir('..')"
   ]
  },
  {
   "cell_type": "code",
   "execution_count": 2,
   "metadata": {},
   "outputs": [
    {
     "ename": "FileNotFoundError",
     "evalue": "[Errno 2] No such file or directory: 'outs/mnist_subvpsde_ddpmpp_continuous_42/bpds/test_0/mnist_ckpt_last_bpd_0.npz'",
     "output_type": "error",
     "traceback": [
      "\u001b[0;31m---------------------------------------------------------------------------\u001b[0m",
      "\u001b[0;31mFileNotFoundError\u001b[0m                         Traceback (most recent call last)",
      "\u001b[1;32m/home/cyanos/Workspace/Remake_scoreflow/notebooks/plot_hist.ipynb Cell 2'\u001b[0m in \u001b[0;36m<cell line: 2>\u001b[0;34m()\u001b[0m\n\u001b[1;32m      <a href='vscode-notebook-cell:/home/cyanos/Workspace/Remake_scoreflow/notebooks/plot_hist.ipynb#ch0000001?line=0'>1</a>\u001b[0m bpds \u001b[39m=\u001b[39m []\n\u001b[1;32m      <a href='vscode-notebook-cell:/home/cyanos/Workspace/Remake_scoreflow/notebooks/plot_hist.ipynb#ch0000001?line=1'>2</a>\u001b[0m \u001b[39mfor\u001b[39;00m i \u001b[39min\u001b[39;00m \u001b[39mrange\u001b[39m(\u001b[39m78\u001b[39m):\n\u001b[0;32m----> <a href='vscode-notebook-cell:/home/cyanos/Workspace/Remake_scoreflow/notebooks/plot_hist.ipynb#ch0000001?line=2'>3</a>\u001b[0m     tmp \u001b[39m=\u001b[39m np\u001b[39m.\u001b[39;49mload(\u001b[39mf\u001b[39;49m\u001b[39m'\u001b[39;49m\u001b[39mouts/mnist_subvpsde_ddpmpp_continuous_42/bpds/test_0/mnist_ckpt_last_bpd_\u001b[39;49m\u001b[39m{\u001b[39;49;00mi\u001b[39m}\u001b[39;49;00m\u001b[39m.npz\u001b[39;49m\u001b[39m'\u001b[39;49m)\n\u001b[1;32m      <a href='vscode-notebook-cell:/home/cyanos/Workspace/Remake_scoreflow/notebooks/plot_hist.ipynb#ch0000001?line=3'>4</a>\u001b[0m     bpds\u001b[39m.\u001b[39mappend(tmp[\u001b[39m'\u001b[39m\u001b[39marr_0\u001b[39m\u001b[39m'\u001b[39m])\n\u001b[1;32m      <a href='vscode-notebook-cell:/home/cyanos/Workspace/Remake_scoreflow/notebooks/plot_hist.ipynb#ch0000001?line=4'>5</a>\u001b[0m bpds \u001b[39m=\u001b[39m np\u001b[39m.\u001b[39mconcatenate(bpds)\n",
      "File \u001b[0;32m~/anaconda3/envs/scoreflow/lib/python3.10/site-packages/numpy/lib/npyio.py:390\u001b[0m, in \u001b[0;36mload\u001b[0;34m(file, mmap_mode, allow_pickle, fix_imports, encoding)\u001b[0m\n\u001b[1;32m    <a href='file:///home/cyanos/anaconda3/envs/scoreflow/lib/python3.10/site-packages/numpy/lib/npyio.py?line=387'>388</a>\u001b[0m     own_fid \u001b[39m=\u001b[39m \u001b[39mFalse\u001b[39;00m\n\u001b[1;32m    <a href='file:///home/cyanos/anaconda3/envs/scoreflow/lib/python3.10/site-packages/numpy/lib/npyio.py?line=388'>389</a>\u001b[0m \u001b[39melse\u001b[39;00m:\n\u001b[0;32m--> <a href='file:///home/cyanos/anaconda3/envs/scoreflow/lib/python3.10/site-packages/numpy/lib/npyio.py?line=389'>390</a>\u001b[0m     fid \u001b[39m=\u001b[39m stack\u001b[39m.\u001b[39menter_context(\u001b[39mopen\u001b[39;49m(os_fspath(file), \u001b[39m\"\u001b[39;49m\u001b[39mrb\u001b[39;49m\u001b[39m\"\u001b[39;49m))\n\u001b[1;32m    <a href='file:///home/cyanos/anaconda3/envs/scoreflow/lib/python3.10/site-packages/numpy/lib/npyio.py?line=390'>391</a>\u001b[0m     own_fid \u001b[39m=\u001b[39m \u001b[39mTrue\u001b[39;00m\n\u001b[1;32m    <a href='file:///home/cyanos/anaconda3/envs/scoreflow/lib/python3.10/site-packages/numpy/lib/npyio.py?line=392'>393</a>\u001b[0m \u001b[39m# Code to distinguish from NumPy binary files and pickles.\u001b[39;00m\n",
      "\u001b[0;31mFileNotFoundError\u001b[0m: [Errno 2] No such file or directory: 'outs/mnist_subvpsde_ddpmpp_continuous_42/bpds/test_0/mnist_ckpt_last_bpd_0.npz'"
     ]
    }
   ],
   "source": [
    "bpds = []\n",
    "for i in range(78):\n",
    "    tmp = np.load(f'outs/mnist_subvpsde_ddpmpp_continuous_42/bpds/test_0/mnist_ckpt_last_bpd_{i}.npz')\n",
    "    bpds.append(tmp['arr_0'])\n",
    "bpds = np.concatenate(bpds)\n",
    "mnist_score = bpds\n",
    "print(mnist_score.shape)\n",
    "np.save('outs/cifar10_subvp_likelihood_tw/eval_cifar10_server/test_ckpt_26_bpd_full', mnist_score)"
   ]
  },
  {
   "cell_type": "code",
   "execution_count": 51,
   "metadata": {},
   "outputs": [],
   "source": [
    "# bpds = []\n",
    "# for i in range(165):\n",
    "#     tmp = np.load(f'outs/cifar10_subvp_likelihood_tw/eval_svhn_server/test_ckpt_26_bpd_{i}.npz')\n",
    "#     bpds.append(tmp['arr_0'])\n",
    "# bpds = np.concatenate(bpds)\n",
    "# svhn_nll = bpds\n",
    "# print(svhn_nll.shape)\n",
    "# np.save('outs/cifar10_subvp_likelihood_tw/eval_svhn_server/test_ckpt_26_bpd_full', svhn_nll)"
   ]
  },
  {
   "cell_type": "code",
   "execution_count": 7,
   "metadata": {},
   "outputs": [
    {
     "name": "stdout",
     "output_type": "stream",
     "text": [
      "(128000,)\n"
     ]
    }
   ],
   "source": [
    "# bpds = []\n",
    "# folder='outs/cifar10_subvp_likelihood_tw/eval_svhn_server_shuffle_8x8'\n",
    "# for i in range(125):\n",
    "#     tmp = np.load(f'{folder}/test_ckpt_26_bpd_{i}.npz')\n",
    "#     bpds.append(tmp['arr_0'])\n",
    "# bpds = np.concatenate(bpds)\n",
    "# svhn_nll_sf8 = bpds\n",
    "# print(svhn_nll_sf8.shape)\n",
    "# np.save(f'{folder}/test_ckpt_26_bpd_full', svhn_nll_sf8)"
   ]
  },
  {
   "cell_type": "code",
   "execution_count": 2,
   "metadata": {},
   "outputs": [],
   "source": [
    "cifar_nll = np.load('outs/cifar10_subvp_likelihood_tw/eval_cifar10_server/test_ckpt_26_bpd_full.npy')\n",
    "svhn_nll = np.load('outs/cifar10_subvp_likelihood_tw/eval_svhn_server/test_ckpt_26_bpd_full.npy')\n",
    "svhn_nll_sf8 = np.load('outs/cifar10_subvp_likelihood_tw/eval_svhn_server_shuffle_8x8/test_ckpt_26_bpd_full.npy')"
   ]
  },
  {
   "cell_type": "code",
   "execution_count": 3,
   "metadata": {},
   "outputs": [
    {
     "name": "stdout",
     "output_type": "stream",
     "text": [
      "(46080,)\n",
      "(126720,)\n",
      "(128000,)\n"
     ]
    }
   ],
   "source": [
    "print(cifar_nll.shape)\n",
    "print(svhn_nll.shape)\n",
    "print(svhn_nll_sf8.shape)\n",
    "\n"
   ]
  },
  {
   "cell_type": "code",
   "execution_count": 4,
   "metadata": {},
   "outputs": [],
   "source": [
    "# bpd_file_paths = glob('outs/cifar10_subvp_likelihood_tw/eval_cifar10_server/test_ckpt_26_bpd_*.npz') \n",
    "# bpd_file_paths = sorted(bpd_file_paths)\n",
    "# bpds = []\n",
    "# for p in bpd_file_paths:\n",
    "#     tmp = np.load(p)\n",
    "#     bpds.append(tmp['arr_0'])\n",
    "# bpds = np.concatenate(bpds)\n",
    "# cifar_nll = bpds"
   ]
  },
  {
   "cell_type": "code",
   "execution_count": 5,
   "metadata": {},
   "outputs": [],
   "source": [
    "# bpd_file_paths = glob('outs/cifar10_subvp_likelihood_tw/eval_svhn_server/test_ckpt_26_bpd_*.npz') \n",
    "# bpd_file_paths = sorted(bpd_file_paths)\n",
    "# bpds = []\n",
    "# for p in bpd_file_paths:\n",
    "#     tmp = np.load(p)\n",
    "#     bpds.append(tmp['arr_0'])\n",
    "# bpds = np.concatenate(bpds)\n",
    "# svhn_nll = bpds"
   ]
  },
  {
   "cell_type": "code",
   "execution_count": 4,
   "metadata": {},
   "outputs": [
    {
     "data": {
      "image/png": "[encoded data removed]",
      "text/plain": [
       "<Figure size 1440x720 with 1 Axes>"
      ]
     },
     "metadata": {
      "needs_background": "light"
     },
     "output_type": "display_data"
    }
   ],
   "source": [
    "plt.figure(figsize=(20,10))\n",
    "plt.title(\"Histogram Score flow - trained on CIFAR10\")\n",
    "plt.xlabel(\"Negative bits per dimension\")\n",
    "plt.hist(-svhn_nll, label=\"SVHN\", density=True, bins=30)\n",
    "plt.hist(-cifar_nll, label=\"CIFAR10\", density=True, bins=50)\n",
    "plt.hist(-svhn_nll_sf8, label=\"SVHN SF8\", density=True, bins=50)\n",
    "plt.legend()\n",
    "plt.show()\n",
    "# plt.savefig(\"images/histogram_glow_cifar_svhn.png\", dpi=300)"
   ]
  },
  {
   "cell_type": "code",
   "execution_count": null,
   "metadata": {},
   "outputs": [],
   "source": []
  }
 ],
 "metadata": {
  "interpreter": {
   "hash": "39c344a833329d9a3adddfedf5d6d3048a2a3fec7c581e41986e09cdd636e042"
  },
  "kernelspec": {
   "display_name": "Python 3.10.4 ('scoreflow')",
   "language": "python",
   "name": "python3"
  },
  "language_info": {
   "codemirror_mode": {
    "name": "ipython",
    "version": 3
   },
   "file_extension": ".py",
   "mimetype": "text/x-python",
   "name": "python",
   "nbconvert_exporter": "python",
   "pygments_lexer": "ipython3",
   "version": "3.10.4"
  },
  "orig_nbformat": 4,
  "vscode": {
   "interpreter": {
    "hash": "916dbcbb3f70747c44a77c7bcd40155683ae19c65e1c03b4aa3499c5328201f1"
   }
  }
 },
 "nbformat": 4,
 "nbformat_minor": 2
}
